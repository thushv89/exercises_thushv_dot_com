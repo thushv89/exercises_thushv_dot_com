{
 "cells": [
  {
   "cell_type": "code",
   "execution_count": null,
   "id": "89832f35",
   "metadata": {},
   "outputs": [],
   "source": [
    "import os\n",
    "\n",
    "filenames = []\n",
    "documents = []\n",
    "for sub_dir, _, files in os.walk(\"bbc-fulltext\"):\n",
    "    for f in files:\n",
    "        if f.endswith('txt'):\n",
    "            with open(os.path.join(sub_dir, f), 'r') as txt_file:\n",
    "                lines = txt_file.readlines()\n",
    "                filenames.append(os.path.join(sub_dir, f))\n",
    "                documents.append(\" \".join([l.lower().strip() for l in lines]))\n",
    "                \n",
    "print(f\"Read {len(documents)} files\")"
   ]
  },
  {
   "cell_type": "code",
   "execution_count": null,
   "id": "089a9e5e",
   "metadata": {},
   "outputs": [],
   "source": [
    "from sklearn.feature_extraction.text import CountVectorizer\n",
    "\n",
    "count_vectorizer = CountVectorizer()\n",
    "term_doc_matrix = count_vectorizer.fit_transform(documents)\n",
    "\n",
    "print(term_doc_matrix.shape)"
   ]
  },
  {
   "cell_type": "code",
   "execution_count": null,
   "id": "8070154c",
   "metadata": {},
   "outputs": [],
   "source": [
    "U, Sigma, V = randomized_svd(term_doc_matrix, n_components=64)\n",
    "print(U.shape)\n",
    "print(Sigma.shape)\n",
    "print(V.shape)"
   ]
  },
  {
   "cell_type": "code",
   "execution_count": null,
   "id": "af5f4c56",
   "metadata": {},
   "outputs": [],
   "source": [
    "import umap\n",
    "\n",
    "reducer = umap.UMAP(n_neighbors=25, metric=\"cosine\")\n",
    "reduced_U = reducer.fit_transform(U)"
   ]
  },
  {
   "cell_type": "code",
   "execution_count": null,
   "id": "7be37de9",
   "metadata": {},
   "outputs": [],
   "source": [
    "plt.figure(figsize=(18, 18))\n",
    "label_colors = {\"business\": \"r\", \"sport\": \"g\", \"entertainment\": \"b\", \"politics\": \"purple\", \"tech\": \"orange\"}\n",
    "\n",
    "for p, f in zip(reduced_U, filenames):\n",
    "    \n",
    "    color = label_colors[f.split(os.path.sep)[-2]]\n",
    "    plt.scatter(p[0], p[1], color=color)"
   ]
  }
 ],
 "metadata": {
  "kernelspec": {
   "display_name": "Python 3 (ipykernel)",
   "language": "python",
   "name": "python3"
  },
  "language_info": {
   "codemirror_mode": {
    "name": "ipython",
    "version": 3
   },
   "file_extension": ".py",
   "mimetype": "text/x-python",
   "name": "python",
   "nbconvert_exporter": "python",
   "pygments_lexer": "ipython3",
   "version": "3.8.13"
  }
 },
 "nbformat": 4,
 "nbformat_minor": 5
}
